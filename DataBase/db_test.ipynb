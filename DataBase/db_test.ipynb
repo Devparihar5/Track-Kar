{
 "cells": [
  {
   "cell_type": "code",
   "execution_count": 2,
   "metadata": {},
   "outputs": [],
   "source": [
    "#extract Details from Database\n",
    "import sqlite3\n",
    "import cv2\n",
    "import pandas as pd\n",
    "import numpy as np"
   ]
  },
  {
   "cell_type": "code",
   "execution_count": 3,
   "metadata": {},
   "outputs": [],
   "source": [
    "\n",
    "conn = sqlite3.connect('E:/House-of-Hackers/Criminal_Database.db')\n",
    "df = pd.read_sql_query(\"SELECT * from suspect\", conn)\n"
   ]
  },
  {
   "cell_type": "code",
   "execution_count": 8,
   "metadata": {},
   "outputs": [],
   "source": [
    "A = df.iloc[1]"
   ]
  },
  {
   "cell_type": "code",
   "execution_count": 9,
   "metadata": {},
   "outputs": [
    {
     "data": {
      "text/plain": [
       "'Nitin Roy'"
      ]
     },
     "execution_count": 9,
     "metadata": {},
     "output_type": "execute_result"
    }
   ],
   "source": [
    "A['name']"
   ]
  },
  {
   "cell_type": "code",
   "execution_count": 4,
   "metadata": {},
   "outputs": [
    {
     "data": {
      "text/html": [
       "<div>\n",
       "<style scoped>\n",
       "    .dataframe tbody tr th:only-of-type {\n",
       "        vertical-align: middle;\n",
       "    }\n",
       "\n",
       "    .dataframe tbody tr th {\n",
       "        vertical-align: top;\n",
       "    }\n",
       "\n",
       "    .dataframe thead th {\n",
       "        text-align: right;\n",
       "    }\n",
       "</style>\n",
       "<table border=\"1\" class=\"dataframe\">\n",
       "  <thead>\n",
       "    <tr style=\"text-align: right;\">\n",
       "      <th></th>\n",
       "      <th>criminal_id</th>\n",
       "      <th>fir_no</th>\n",
       "      <th>name</th>\n",
       "      <th>number</th>\n",
       "      <th>mail</th>\n",
       "      <th>address</th>\n",
       "      <th>dob</th>\n",
       "      <th>picture</th>\n",
       "    </tr>\n",
       "  </thead>\n",
       "  <tbody>\n",
       "    <tr>\n",
       "      <th>0</th>\n",
       "      <td>1</td>\n",
       "      <td>1534</td>\n",
       "      <td>Dev</td>\n",
       "      <td>8963002842</td>\n",
       "      <td>dev@gmail.com</td>\n",
       "      <td>Jodhpur, Rajasthan</td>\n",
       "      <td>02/07/2001</td>\n",
       "      <td>b'\\xff\\xd8\\xff\\xe0\\x00\\x10JFIF\\x00\\x01\\x01\\x01...</td>\n",
       "    </tr>\n",
       "    <tr>\n",
       "      <th>1</th>\n",
       "      <td>3</td>\n",
       "      <td>1190</td>\n",
       "      <td>Nitin Roy</td>\n",
       "      <td>8902795016</td>\n",
       "      <td>nitin_roy@gmail.com</td>\n",
       "      <td>Jaipur, India</td>\n",
       "      <td>03/06/2002</td>\n",
       "      <td>b'\\xff\\xd8\\xff\\xe0\\x00\\x10JFIF\\x00\\x01\\x01\\x00...</td>\n",
       "    </tr>\n",
       "    <tr>\n",
       "      <th>2</th>\n",
       "      <td>4</td>\n",
       "      <td>1989</td>\n",
       "      <td>Gopika Varsini</td>\n",
       "      <td>7854218955</td>\n",
       "      <td>Gopika@gmail.com</td>\n",
       "      <td>Andhra Pradesh</td>\n",
       "      <td>06/04/2002</td>\n",
       "      <td>b'\\xff\\xd8\\xff\\xe1\\x16\\tExif\\x00\\x00MM\\x00*\\x0...</td>\n",
       "    </tr>\n",
       "  </tbody>\n",
       "</table>\n",
       "</div>"
      ],
      "text/plain": [
       "   criminal_id  fir_no            name      number                 mail  \\\n",
       "0            1    1534             Dev  8963002842        dev@gmail.com   \n",
       "1            3    1190       Nitin Roy  8902795016  nitin_roy@gmail.com   \n",
       "2            4    1989  Gopika Varsini  7854218955     Gopika@gmail.com   \n",
       "\n",
       "              address         dob  \\\n",
       "0  Jodhpur, Rajasthan  02/07/2001   \n",
       "1       Jaipur, India  03/06/2002   \n",
       "2      Andhra Pradesh  06/04/2002   \n",
       "\n",
       "                                             picture  \n",
       "0  b'\\xff\\xd8\\xff\\xe0\\x00\\x10JFIF\\x00\\x01\\x01\\x01...  \n",
       "1  b'\\xff\\xd8\\xff\\xe0\\x00\\x10JFIF\\x00\\x01\\x01\\x00...  \n",
       "2  b'\\xff\\xd8\\xff\\xe1\\x16\\tExif\\x00\\x00MM\\x00*\\x0...  "
      ]
     },
     "execution_count": 4,
     "metadata": {},
     "output_type": "execute_result"
    }
   ],
   "source": [
    "df.head()"
   ]
  },
  {
   "cell_type": "code",
   "execution_count": 5,
   "metadata": {},
   "outputs": [
    {
     "data": {
      "text/plain": [
       "Index(['criminal_id', 'fir_no', 'name', 'number', 'mail', 'address', 'dob',\n",
       "       'picture'],\n",
       "      dtype='object')"
      ]
     },
     "execution_count": 5,
     "metadata": {},
     "output_type": "execute_result"
    }
   ],
   "source": [
    "df.columns"
   ]
  },
  {
   "cell_type": "code",
   "execution_count": 6,
   "metadata": {},
   "outputs": [
    {
     "name": "stdout",
     "output_type": "stream",
     "text": [
      "Dev\n",
      "Nitin Roy\n"
     ]
    },
    {
     "name": "stderr",
     "output_type": "stream",
     "text": [
      "C:\\Users\\ASUS\\AppData\\Roaming\\Python\\Python37\\site-packages\\ipykernel_launcher.py:5: DeprecationWarning: The binary mode of fromstring is deprecated, as it behaves surprisingly on unicode inputs. Use frombuffer instead\n",
      "  \"\"\"\n"
     ]
    }
   ],
   "source": [
    "# run a loop and extract the images from the database\n",
    "for i in range(0, len(df)):\n",
    "    img = df['picture'][i]\n",
    "    print(df['name'][i])\n",
    "    img = np.fromstring(img, np.uint8)\n",
    "    img = cv2.imdecode(img, cv2.IMREAD_COLOR)\n",
    "    cv2.imwrite('E:/House-of-Hackers/'+str(i)+'.jpg', img)"
   ]
  },
  {
   "cell_type": "code",
   "execution_count": 55,
   "metadata": {},
   "outputs": [],
   "source": [
    "#check that dataframe is empty or not\n",
    "def check_empty(result):\n",
    "    if result.empty:\n",
    "        return True\n",
    "    else:\n",
    "        return False"
   ]
  },
  {
   "cell_type": "code",
   "execution_count": 58,
   "metadata": {},
   "outputs": [
    {
     "name": "stdout",
     "output_type": "stream",
     "text": [
      "False\n",
      "1534 Dev 8963002842 dev@gmail.com 02/07/2001 Jodhpur, Rajasthan\n"
     ]
    }
   ],
   "source": [
    "# get the details of the suspect using number\n",
    "number = int(1534)\n",
    "# print(type(number))\n",
    "result = df[df['fir_no'] == number]\n",
    "print(check_empty(result))\n",
    "fir_no = result['fir_no'].values[0]\n",
    "name = result['name'].values[0]\n",
    "number = result['number'].values[0]\n",
    "mail = result['mail'].values[0]\n",
    "age = result['dob'].values[0]\n",
    "address = result['address'].values[0]\n",
    "pic = result['picture'].values[0]\n",
    "print(fir_no, name, number, mail, age, address)"
   ]
  },
  {
   "cell_type": "code",
   "execution_count": null,
   "metadata": {},
   "outputs": [],
   "source": []
  },
  {
   "cell_type": "code",
   "execution_count": null,
   "metadata": {},
   "outputs": [],
   "source": []
  },
  {
   "cell_type": "code",
   "execution_count": null,
   "metadata": {},
   "outputs": [],
   "source": []
  }
 ],
 "metadata": {
  "kernelspec": {
   "display_name": "Python 3",
   "language": "python",
   "name": "python3"
  },
  "language_info": {
   "codemirror_mode": {
    "name": "ipython",
    "version": 3
   },
   "file_extension": ".py",
   "mimetype": "text/x-python",
   "name": "python",
   "nbconvert_exporter": "python",
   "pygments_lexer": "ipython3",
   "version": "3.7.8"
  },
  "orig_nbformat": 4
 },
 "nbformat": 4,
 "nbformat_minor": 2
}
